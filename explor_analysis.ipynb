{
  "nbformat": 4,
  "nbformat_minor": 0,
  "metadata": {
    "colab": {
      "provenance": [],
      "collapsed_sections": [],
      "authorship_tag": "ABX9TyNjZjRThatYD+jiQIKe7O1W",
      "include_colab_link": true
    },
    "kernelspec": {
      "name": "python3",
      "display_name": "Python 3"
    },
    "language_info": {
      "name": "python"
    }
  },
  "cells": [
    {
      "cell_type": "markdown",
      "metadata": {
        "id": "view-in-github",
        "colab_type": "text"
      },
      "source": [
        "<a href=\"https://colab.research.google.com/github/xgross11/UPA2_projekt/blob/main/explor_analysis.ipynb\" target=\"_parent\"><img src=\"https://colab.research.google.com/assets/colab-badge.svg\" alt=\"Open In Colab\"/></a>"
      ]
    },
    {
      "cell_type": "code",
      "source": [
        "import pandas as pd\n",
        "import numpy as np\n",
        "import matplotlib.pyplot as plt\n",
        "import seaborn as sns\n",
        "\n",
        "penguins = pd.read_csv(\"penguins_lter.csv\")\n",
        "'''Zakladni prehled - vypis prvnich, nahodne vybranych a poslednich radku, vypis tvaru(radky x sloupce)'''\n",
        "\n",
        "'''Info o atributech - jmeno typ, nazvy sloupcu a hodnotyve sloupci'''\n",
        "print(penguins.dtypes)\n",
        "penguins.info()\n",
        "print(penguins.columns)\n",
        "# charakteristika ciselnych atributu\n",
        "print(penguins.describe())\n"
      ],
      "metadata": {
        "id": "scuaYj51P9Bz",
        "colab": {
          "base_uri": "https://localhost:8080/"
        },
        "outputId": "2d08bef5-7786-4061-e46b-96fae3eb2553"
      },
      "execution_count": 15,
      "outputs": [
        {
          "output_type": "stream",
          "name": "stdout",
          "text": [
            "studyName               object\n",
            "Sample Number            int64\n",
            "Species                 object\n",
            "Region                  object\n",
            "Island                  object\n",
            "Stage                   object\n",
            "Individual ID           object\n",
            "Clutch Completion       object\n",
            "Date Egg                object\n",
            "Culmen Length (mm)     float64\n",
            "Culmen Depth (mm)      float64\n",
            "Flipper Length (mm)    float64\n",
            "Body Mass (g)          float64\n",
            "Sex                     object\n",
            "Delta 15 N (o/oo)      float64\n",
            "Delta 13 C (o/oo)      float64\n",
            "Comments                object\n",
            "dtype: object\n",
            "<class 'pandas.core.frame.DataFrame'>\n",
            "RangeIndex: 344 entries, 0 to 343\n",
            "Data columns (total 17 columns):\n",
            " #   Column               Non-Null Count  Dtype  \n",
            "---  ------               --------------  -----  \n",
            " 0   studyName            344 non-null    object \n",
            " 1   Sample Number        344 non-null    int64  \n",
            " 2   Species              344 non-null    object \n",
            " 3   Region               344 non-null    object \n",
            " 4   Island               344 non-null    object \n",
            " 5   Stage                344 non-null    object \n",
            " 6   Individual ID        344 non-null    object \n",
            " 7   Clutch Completion    344 non-null    object \n",
            " 8   Date Egg             344 non-null    object \n",
            " 9   Culmen Length (mm)   342 non-null    float64\n",
            " 10  Culmen Depth (mm)    342 non-null    float64\n",
            " 11  Flipper Length (mm)  342 non-null    float64\n",
            " 12  Body Mass (g)        342 non-null    float64\n",
            " 13  Sex                  334 non-null    object \n",
            " 14  Delta 15 N (o/oo)    330 non-null    float64\n",
            " 15  Delta 13 C (o/oo)    331 non-null    float64\n",
            " 16  Comments             26 non-null     object \n",
            "dtypes: float64(6), int64(1), object(10)\n",
            "memory usage: 45.8+ KB\n",
            "Index(['studyName', 'Sample Number', 'Species', 'Region', 'Island', 'Stage',\n",
            "       'Individual ID', 'Clutch Completion', 'Date Egg', 'Culmen Length (mm)',\n",
            "       'Culmen Depth (mm)', 'Flipper Length (mm)', 'Body Mass (g)', 'Sex',\n",
            "       'Delta 15 N (o/oo)', 'Delta 13 C (o/oo)', 'Comments'],\n",
            "      dtype='object')\n",
            "       Sample Number  Culmen Length (mm)  Culmen Depth (mm)  \\\n",
            "count     344.000000          342.000000         342.000000   \n",
            "mean       63.151163           43.921930          17.151170   \n",
            "std        40.430199            5.459584           1.974793   \n",
            "min         1.000000           32.100000          13.100000   \n",
            "25%        29.000000           39.225000          15.600000   \n",
            "50%        58.000000           44.450000          17.300000   \n",
            "75%        95.250000           48.500000          18.700000   \n",
            "max       152.000000           59.600000          21.500000   \n",
            "\n",
            "       Flipper Length (mm)  Body Mass (g)  Delta 15 N (o/oo)  \\\n",
            "count           342.000000     342.000000         330.000000   \n",
            "mean            200.915205    4201.754386           8.733382   \n",
            "std              14.061714     801.954536           0.551770   \n",
            "min             172.000000    2700.000000           7.632200   \n",
            "25%             190.000000    3550.000000           8.299890   \n",
            "50%             197.000000    4050.000000           8.652405   \n",
            "75%             213.000000    4750.000000           9.172123   \n",
            "max             231.000000    6300.000000          10.025440   \n",
            "\n",
            "       Delta 13 C (o/oo)  \n",
            "count         331.000000  \n",
            "mean          -25.686292  \n",
            "std             0.793961  \n",
            "min           -27.018540  \n",
            "25%           -26.320305  \n",
            "50%           -25.833520  \n",
            "75%           -25.062050  \n",
            "max           -23.787670  \n"
          ]
        }
      ]
    },
    {
      "cell_type": "code",
      "source": [
        "from google.colab import drive\n",
        "drive.mount('/content/drive')"
      ],
      "metadata": {
        "id": "zJGTooDTkksZ"
      },
      "execution_count": null,
      "outputs": []
    }
  ]
}